{
  "nbformat": 4,
  "nbformat_minor": 0,
  "metadata": {
    "colab": {
      "name": "extract usernames from emails.ipynb",
      "provenance": [],
      "collapsed_sections": [],
      "authorship_tag": "ABX9TyMzp6WsZdnPsbFURN2VwQAZ",
      "include_colab_link": true
    },
    "kernelspec": {
      "name": "python3",
      "display_name": "Python 3"
    },
    "language_info": {
      "name": "python"
    }
  },
  "cells": [
    {
      "cell_type": "markdown",
      "metadata": {
        "id": "view-in-github",
        "colab_type": "text"
      },
      "source": [
        "<a href=\"https://colab.research.google.com/github/themanoftalent/Python-3-Training/blob/master/extract_usernames_from_emails.ipynb\" target=\"_parent\"><img src=\"https://colab.research.google.com/assets/colab-badge.svg\" alt=\"Open In Colab\"/></a>"
      ]
    },
    {
      "cell_type": "code",
      "metadata": {
        "id": "8aySPvZFQ7RO"
      },
      "source": [
        "import re\n",
        "from typing import List"
      ],
      "execution_count": 29,
      "outputs": []
    },
    {
      "cell_type": "code",
      "metadata": {
        "id": "S1zZi8VGQ8Ji"
      },
      "source": [
        "def username(text:str) -> List[str]:\n",
        "  match = re.findall(r\"([^\\s@]+)@\\S+\", text)\n",
        "  print(match)"
      ],
      "execution_count": 30,
      "outputs": []
    },
    {
      "cell_type": "code",
      "metadata": {
        "colab": {
          "base_uri": "https://localhost:8080/"
        },
        "id": "83i1KUF3RTYd",
        "outputId": "be4d6ac9-afa8-4652-b755-0cf069ec40a4"
      },
      "source": [
        "text=\"New  registered users are: john.doe@gmail.com, john@gmail.com\"\n",
        "username(text)"
      ],
      "execution_count": 31,
      "outputs": [
        {
          "output_type": "stream",
          "text": [
            "['john.doe', 'john']\n"
          ],
          "name": "stdout"
        }
      ]
    },
    {
      "cell_type": "code",
      "metadata": {
        "colab": {
          "base_uri": "https://localhost:8080/"
        },
        "id": "MuyqBUKIRtZh",
        "outputId": "ef1af3fd-a6dd-4553-b303-f85be7d4569d"
      },
      "source": [
        "import re\n",
        "from typing import List\n",
        "\n",
        "def username(text:str) -> List[str]:\n",
        "  match = re.findall(r\"([^\\s@]+)@\\S+\", text)\n",
        "  print(match)\n",
        "\n",
        "\n",
        "text=\"New  registered users are: john.doe@gmail.com, john@gmail.com\"\n",
        "username(text)"
      ],
      "execution_count": 32,
      "outputs": [
        {
          "output_type": "stream",
          "text": [
            "['john.doe', 'john']\n"
          ],
          "name": "stdout"
        }
      ]
    },
    {
      "cell_type": "code",
      "metadata": {
        "id": "qtMOK0Eui9F1"
      },
      "source": [
        ""
      ],
      "execution_count": null,
      "outputs": []
    }
  ]
}