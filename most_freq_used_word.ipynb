{
  "nbformat": 4,
  "nbformat_minor": 0,
  "metadata": {
    "colab": {
      "name": "most freq used word.ipynb",
      "provenance": [],
      "collapsed_sections": [],
      "authorship_tag": "ABX9TyPjVZjtRTN33tfmpviXd9Wk",
      "include_colab_link": true
    },
    "kernelspec": {
      "name": "python3",
      "display_name": "Python 3"
    },
    "language_info": {
      "name": "python"
    }
  },
  "cells": [
    {
      "cell_type": "markdown",
      "metadata": {
        "id": "view-in-github",
        "colab_type": "text"
      },
      "source": [
        "<a href=\"https://colab.research.google.com/github/themanoftalent/Python-3-Training/blob/master/most_freq_used_word.ipynb\" target=\"_parent\"><img src=\"https://colab.research.google.com/assets/colab-badge.svg\" alt=\"Open In Colab\"/></a>"
      ]
    },
    {
      "cell_type": "code",
      "metadata": {
        "id": "KVT7iGVcsOou"
      },
      "source": [
        "from collections import Counter\n",
        "import re\n",
        "\n",
        "\n",
        "def top_3_words(text):\n",
        "    c = Counter(re.findall(r\"[a-z']+\", re.sub(r\" '+ \", \" \", text.lower())))\n",
        "    return [w for w,_ in c.most_common(3)]"
      ],
      "execution_count": 2,
      "outputs": []
    },
    {
      "cell_type": "code",
      "metadata": {
        "id": "6FBr6xmJ90Qo",
        "colab": {
          "base_uri": "https://localhost:8080/"
        },
        "outputId": "e08c1fd3-4b4e-4547-8405-20ffbda240d8"
      },
      "source": [
        "top_3_words(\"bhuiyan, QueenK, 5hy0w1, MARAL1365, tt10, QueenK,yeyzon,abu, LogicalX, QueenK,abu \")"
      ],
      "execution_count": 6,
      "outputs": [
        {
          "output_type": "execute_result",
          "data": {
            "text/plain": [
              "['queenk', 'abu', 'bhuiyan']"
            ]
          },
          "metadata": {
            "tags": []
          },
          "execution_count": 6
        }
      ]
    },
    {
      "cell_type": "code",
      "metadata": {
        "id": "HCjkhPMakqj_"
      },
      "source": [
        "import re\n",
        "from collections import Counter\n",
        "\n",
        "top_3_words=lambda t:[w for w,c in Counter(re.findall(\"'*[a-z][a-z']*\",t.lower())).most_common(3)]"
      ],
      "execution_count": 7,
      "outputs": []
    },
    {
      "cell_type": "code",
      "metadata": {
        "colab": {
          "base_uri": "https://localhost:8080/"
        },
        "id": "H0fZFxVFpYgl",
        "outputId": "e14f26b1-36d5-4c36-f7eb-e3a0385632da"
      },
      "source": [
        "top_3_words(\"bhuiyan, QueenK, 5hy0w1, MARAL1365, tt10, QueenK,yeyzon,abu, LogicalX, QueenK,abu \")"
      ],
      "execution_count": 8,
      "outputs": [
        {
          "output_type": "execute_result",
          "data": {
            "text/plain": [
              "['queenk', 'abu', 'bhuiyan']"
            ]
          },
          "metadata": {
            "tags": []
          },
          "execution_count": 8
        }
      ]
    },
    {
      "cell_type": "code",
      "metadata": {
        "id": "o3fnS48HpZrz"
      },
      "source": [
        "import re\n",
        "\n",
        "def top_3_words(text):\n",
        "    re_non_valid = re.compile('[^a-z\\' ]')\n",
        "    re_chars = re.compile('[a-z]')\n",
        "    text = text.lower()\n",
        "    text = ' '.join([x for x in re_non_valid.sub(' ',text).split() if re_chars.search(x)])\n",
        "    words = {}\n",
        "    top = {}                    # Dictionary with no more than 3 words\n",
        "    for word in text.split():\n",
        "        if word in words:\n",
        "            words[word] += 1\n",
        "        else:\n",
        "            words[word] = 1\n",
        "        top[word] = words[word] # Add the new word to the top\n",
        "        if len(top) > 3:        # If the top is too big remove the worst word\n",
        "            top.pop(min(top, key=top.get))\n",
        "    return sorted(top, key=top.get, reverse=True)"
      ],
      "execution_count": 9,
      "outputs": []
    },
    {
      "cell_type": "code",
      "metadata": {
        "colab": {
          "base_uri": "https://localhost:8080/"
        },
        "id": "tMJJc_ylphMd",
        "outputId": "7c8df814-6ef2-4160-b8a8-2810483121c3"
      },
      "source": [
        "texist =\"Altıncı sınıfa bilimleri devam edenbilimleri görme engelli bilimleridevam öğrencilerin bilimleri devamfen bilimleri dersine engelli devam yönelik devam öğretim ihtiyaçlarının belirlenmesi\"\n",
        "top_3_words(texist)"
      ],
      "execution_count": 15,
      "outputs": [
        {
          "output_type": "execute_result",
          "data": {
            "text/plain": [
              "['bilimleri', 'devam', 'n']"
            ]
          },
          "metadata": {
            "tags": []
          },
          "execution_count": 15
        }
      ]
    },
    {
      "cell_type": "code",
      "metadata": {
        "id": "DEcdNZynpilQ"
      },
      "source": [
        ""
      ],
      "execution_count": null,
      "outputs": []
    }
  ]
}