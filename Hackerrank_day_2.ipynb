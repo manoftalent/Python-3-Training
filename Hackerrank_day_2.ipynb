{
  "nbformat": 4,
  "nbformat_minor": 0,
  "metadata": {
    "colab": {
      "name": "Hackerrank day 2.ipynb",
      "provenance": [],
      "collapsed_sections": [],
      "authorship_tag": "ABX9TyPGtkWY4xQMAeJFSerlQn/I",
      "include_colab_link": true
    },
    "kernelspec": {
      "name": "python3",
      "display_name": "Python 3"
    },
    "language_info": {
      "name": "python"
    }
  },
  "cells": [
    {
      "cell_type": "markdown",
      "metadata": {
        "id": "view-in-github",
        "colab_type": "text"
      },
      "source": [
        "<a href=\"https://colab.research.google.com/github/themanoftalent/Python-3-Training/blob/master/Hackerrank_day_2.ipynb\" target=\"_parent\"><img src=\"https://colab.research.google.com/assets/colab-badge.svg\" alt=\"Open In Colab\"/></a>"
      ]
    },
    {
      "cell_type": "markdown",
      "metadata": {
        "id": "CRfKX2Wf7wkN"
      },
      "source": [
        "Objective\n",
        "In this challenge, you will work with arithmetic operators. Check out the Tutorial tab for learning materials and an instructional video.\n",
        "\n",
        "Task\n",
        "Given the meal price (base cost of a meal), tip percent (the percentage of the meal price being added as tip), and tax percent (the percentage of the meal price being added as tax) for a meal, find and print the meal's total cost. Round the result to the nearest integer.\n",
        "\n",
        "Example\n",
        "\n",
        "\n",
        "\n",
        "A tip of 15% * 100 = 15, and the taxes are 8% * 100 = 8. Print the value  and return from the function.\n",
        "\n",
        "Function Description\n",
        "Complete the solve function in the editor below.\n",
        "\n",
        "solve has the following parameters:\n",
        "\n",
        "int meal_cost: the cost of food before tip and tax\n",
        "int tip_percent: the tip percentage\n",
        "int tax_percent: the tax percentage\n",
        "Returns The function returns nothing. Print the calculated value, rounded to the nearest integer.\n",
        "\n",
        "Note: Be sure to use precise values for your calculations, or you may end up with an incorrectly rounded result.\n",
        "\n",
        "Input Format\n",
        "\n",
        "There are  lines of numeric input:\n",
        "The first line has a double,  (the cost of the meal before tax and tip).\n",
        "The second line has an integer,  (the percentage of  being added as tip).\n",
        "The third line has an integer,  (the percentage of  being added as tax).\n"
      ]
    },
    {
      "cell_type": "code",
      "metadata": {
        "id": "acszuikC7of5"
      },
      "source": [
        "import math\n",
        "import os\n",
        "import random\n",
        "import re\n",
        "import sys\n"
      ],
      "execution_count": 1,
      "outputs": []
    },
    {
      "cell_type": "code",
      "metadata": {
        "colab": {
          "base_uri": "https://localhost:8080/"
        },
        "id": "GOBfLlGH7nMn",
        "outputId": "c5d42c6a-98c3-43c9-a82d-de98c867d57d"
      },
      "source": [
        "# Complete the solve function below.\n",
        "def solve(meal_cost, tip_percent, tax_percent):\n",
        "\n",
        "    total_cost =  meal_cost + meal_cost * tip_percent/100 + meal_cost * tax_percent/100\n",
        "    print(round(total_cost))\n",
        "\n",
        "if __name__ == '__main__':\n",
        "    meal_cost = float(input())\n",
        "\n",
        "    tip_percent = int(input())\n",
        "\n",
        "    tax_percent = int(input())\n",
        "\n",
        "    solve(meal_cost, tip_percent, tax_percent) #12.0 20 8 =15"
      ],
      "execution_count": 3,
      "outputs": [
        {
          "output_type": "stream",
          "text": [
            "12\n",
            "20\n",
            "8\n",
            "15\n"
          ],
          "name": "stdout"
        }
      ]
    },
    {
      "cell_type": "code",
      "metadata": {
        "id": "YYMHN61F7rfd"
      },
      "source": [
        ""
      ],
      "execution_count": null,
      "outputs": []
    }
  ]
}