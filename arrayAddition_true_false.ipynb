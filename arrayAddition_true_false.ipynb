{
  "nbformat": 5,
  "nbformat_minor": 0,
  "metadata": {
    "colab": {
      "name": "tokenlestirme.ipynb",
      "provenance": [],
      "collapsed_sections": [],
      "authorship_tag": "ABX9TyMrbGohokwRxCP75jLHmoDl",
      "include_colab_link": true
    },
    "kernelspec": {
      "name": "python3",
      "display_name": "Python 3"
    },
    "language_info": {
      "name": "python"
    }
  },
  "cells": [
    {
      "cell_type": "markdown",
      "metadata": {
        "id": "view-in-github",
        "colab_type": "text"
      },
      "source": [
        "<a href=\"https://colab.research.google.com/github/themanoftalent/Python-3-Training/blob/master/arrayAddition_true_false.ipynb\" target=\"_parent\"><img src=\"https://colab.research.google.com/assets/colab-badge.svg\" alt=\"Open In Colab\"/></a>"
      ]
    },
    {
      "cell_type": "markdown",
      "metadata": {
        "id": "AKIJohv8ot7e"
      },
      "source": [
        "First Reverse"
      ]
    },
    {
      "cell_type": "code",
      "metadata": {
        "colab": {
          "base_uri": "https://localhost:8080/"
        },
        "id": "KNMncOdtpO7j",
        "outputId": "52b680b6-fa11-421c-cda2-5e55b60bd072"
      },
      "source": [
        "'''\n",
        "Have the function ArrayAdditionI(arr) take the array of numbers stored in arr \n",
        "and return the string true if any combination of numbers in the array can be \n",
        "added up to equal the largest number in the array, otherwise return the string \n",
        "false. For example: if arr contains [4, 6, 23, 10, 1, 3] the output should \n",
        "return true because 4 + 6 + 10 + 3 = 23. The array will not be empty, will not \n",
        "contain all the same elements, and may contain negative numbers.\n",
        "Examples:\n",
        "Input: [5, 7, 16, 1, 2]\n",
        "Output: false\n",
        "Input: [3, 5, -1, 8, 12]\n",
        "Output: true\n",
        "'''\n",
        "\n",
        "def ArrayAdditionI(arr):\n",
        "\tarr = sorted(arr)\n",
        "\tmaximum = arr[-1]\n",
        "\tarr = arr[:1]\n",
        "\ttotal = 0\n",
        "\t\n",
        "\tfor i in range(len(arr)):\n",
        "\t\n",
        "\t\ttotal = total + arr[i]\n",
        "\t\tif total == maximum:\n",
        "\t\t\treturn 'true'\n",
        "\t\t\n",
        "\t\tfor j in range(len(arr)):\n",
        "\t\t\tif j != i:\n",
        "\t\t\t\ttotal = total + arr[j]\n",
        "\t\t\t\tif total == maximum:\n",
        "\t\t\t\t\treturn 'true'\n",
        "\t\t\n",
        "\t\tfor k in range(len(arr)):\n",
        "\t\t\tif k != i:\n",
        "\t\t\t\ttotal = total + arr[k]\n",
        "\t\t\t\tif total == maximum:\n",
        "\t\t\t\t\treturn 'true'\n",
        "\t\t\n",
        "\t\treturn 'false'\n",
        "\t\t\n",
        "print(ArrayAdditionI([3, 5, -1, 8, 12]))"
      ],
      "execution_count": 81,
      "outputs": [
        {
          "output_type": "stream",
          "text": [
            "false\n"
          ],
          "name": "stdout"
        }
      ]
    },
    {
      "cell_type": "code",
      "metadata": {
        "id": "Fg4SnZYtqPBd"
      },
      "source": [
        ""
      ],
      "execution_count": null,
      "outputs": []
    }
  ]
}
