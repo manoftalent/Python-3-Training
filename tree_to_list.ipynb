{
  "nbformat": 4,
  "nbformat_minor": 0,
  "metadata": {
    "colab": {
      "name": "sorted.ipynb",
      "provenance": [],
      "collapsed_sections": [],
      "authorship_tag": "ABX9TyPxVwbO2KVkufpJ2sTSG70Y",
      "include_colab_link": true
    },
    "kernelspec": {
      "name": "python3",
      "display_name": "Python 3"
    },
    "language_info": {
      "name": "python"
    }
  },
  "cells": [
    {
      "cell_type": "markdown",
      "metadata": {
        "id": "view-in-github",
        "colab_type": "text"
      },
      "source": [
        "<a href=\"https://colab.research.google.com/github/themanoftalent/Python-3-Training/blob/master/tree_to_list.ipynb\" target=\"_parent\"><img src=\"https://colab.research.google.com/assets/colab-badge.svg\" alt=\"Open In Colab\"/></a>"
      ]
    },
    {
      "cell_type": "code",
      "metadata": {
        "id": "3KEQAHfLgyvv"
      },
      "source": [
        "# \"\"\"\n",
        "# Given root of tree with arbitrary number of children nodes transform data from tree to list. \n",
        "# Where data from neighbour nodes in tree located in neighbour position in list.\n",
        "\n",
        "# Example:\n",
        "# ```\n",
        "#        1\n",
        "#       / \\\n",
        "#      2   3  -> [1,2,3,4,5,6,7]\n",
        "#     /|\\   \\\n",
        "#    4 5 6   7\n",
        "# ```\n",
        "# \"\"\"\n"
      ],
      "execution_count": 25,
      "outputs": []
    },
    {
      "cell_type": "code",
      "metadata": {
        "colab": {
          "base_uri": "https://localhost:8080/"
        },
        "id": "hRfKP6-YiIXH",
        "outputId": "40a20dd7-041e-4f25-facf-c20294d285e2"
      },
      "source": [
        "from pprint import pprint\n",
        "\n",
        "btree = {\n",
        "    1: [\"Node 1\", 2, 3],\n",
        "    2: [\"Node 2\", 4, 0],\n",
        "    3: [\"Node 3\", 0, 0],\n",
        "    4: [\"Node 4\", 5, 0],\n",
        "    5: [\"Node 5\", 6, 0],\n",
        "    6: [\"Node 6\", 7, 0],\n",
        "    7: [\"Node 7\", 0, 0],\n",
        "}\n",
        "\n",
        "def do_node(id, path, result):\n",
        "    node = btree[id]\n",
        "    if node[1] == 0 and node[2] == 0:\n",
        "        # This node has no children, and is thus a leaf node, so add it to the result list\n",
        "        result.append(path + [node[0]])\n",
        "    else:\n",
        "        # This is a non-leaf node, so process its children\n",
        "        if node[1] != 0:\n",
        "            do_node(node[1], path + [node[0]], result)\n",
        "        if node[2] != 0:\n",
        "            do_node(node[2], path + [node[0]], result)\n",
        "\n",
        "\n",
        "def print_leaf_paths(tree):\n",
        "    result = []\n",
        "    do_node(1, [], result)\n",
        "    pprint(result)\n",
        "\n",
        "print_leaf_paths(btree)"
      ],
      "execution_count": 32,
      "outputs": [
        {
          "output_type": "stream",
          "text": [
            "[['Node 1', 'Node 2', 'Node 4', 'Node 5', 'Node 6', 'Node 7'],\n",
            " ['Node 1', 'Node 3']]\n"
          ],
          "name": "stdout"
        }
      ]
    },
    {
      "cell_type": "code",
      "metadata": {
        "colab": {
          "base_uri": "https://localhost:8080/"
        },
        "id": "KY38cJ56iItk",
        "outputId": "7da04f82-a3dd-4e26-a07d-e6b04cbd0ca5"
      },
      "source": [
        "tree = {1: ['Node 1', 2, 3], \n",
        "        2: ['Node 2', 4, 0], \n",
        "        3: ['Node 3', 0, 0], \n",
        "        4: ['Node 4', 5, 0], \n",
        "        5: ['Node 5', 6, 0], \n",
        "        6: ['Node 6', 7, 0], \n",
        "        7: ['Node 7', 0, 0]}\n",
        "        \n",
        "def paths(a, c = []):\n",
        "  if a not in tree:\n",
        "    yield tuple(c)\n",
        "  else:\n",
        "    for i in tree[a][1:]:\n",
        "      yield from paths(i, c+[tree[a][0]])\n",
        "\n",
        "print(list(set(paths(1))))"
      ],
      "execution_count": 34,
      "outputs": [
        {
          "output_type": "stream",
          "text": [
            "[('Node 1', 'Node 2'), ('Node 1', 'Node 2', 'Node 4', 'Node 5'), ('Node 1', 'Node 2', 'Node 4'), ('Node 1', 'Node 2', 'Node 4', 'Node 5', 'Node 6', 'Node 7'), ('Node 1', 'Node 2', 'Node 4', 'Node 5', 'Node 6'), ('Node 1', 'Node 3')]\n"
          ],
          "name": "stdout"
        }
      ]
    },
    {
      "cell_type": "code",
      "metadata": {
        "id": "gN01LMCtidDV"
      },
      "source": [
        ""
      ],
      "execution_count": null,
      "outputs": []
    }
  ]
}