{
  "nbformat": 4,
  "nbformat_minor": 0,
  "metadata": {
    "colab": {
      "name": "sorted.ipynb",
      "provenance": [],
      "collapsed_sections": [],
      "authorship_tag": "ABX9TyMpMHBVK+0BzrXgR02mPV+v",
      "include_colab_link": true
    },
    "kernelspec": {
      "name": "python3",
      "display_name": "Python 3"
    },
    "language_info": {
      "name": "python"
    }
  },
  "cells": [
    {
      "cell_type": "markdown",
      "metadata": {
        "id": "view-in-github",
        "colab_type": "text"
      },
      "source": [
        "<a href=\"https://colab.research.google.com/github/themanoftalent/Python-3-Training/blob/master/title%20case.ipynb\" target=\"_parent\"><img src=\"https://colab.research.google.com/assets/colab-badge.svg\" alt=\"Open In Colab\"/></a>"
      ]
    },
    {
      "cell_type": "code",
      "metadata": {
        "id": "otaZQPWTgOTP"
      },
      "source": [
        "def title_case(title, minor_words = ''):\n",
        "    new_title = []\n",
        "    new_minor_words = [word.lower() for word in minor_words.split(' ')]\n",
        "\n",
        "    if not len(title):\n",
        "        return title\n",
        "\n",
        "    for index, word in enumerate(title.split(' ')):\n",
        "        if index == 0:\n",
        "            new_title.append(word.title())\n",
        "            continue\n",
        "\n",
        "        if word.lower() in new_minor_words:\n",
        "            new_title.append(word.lower())\n",
        "            continue\n",
        "\n",
        "        new_title.append(word.title())\n",
        "\n",
        "    return ' '.join(new_title)"
      ],
      "execution_count": 18,
      "outputs": []
    },
    {
      "cell_type": "code",
      "metadata": {
        "colab": {
          "base_uri": "https://localhost:8080/",
          "height": 35
        },
        "id": "g59ssjVkgOtk",
        "outputId": "0862ab30-dc3f-466d-9da7-f36efbdb4c9f"
      },
      "source": [
        "title_case('Hello man where are you this')"
      ],
      "execution_count": 21,
      "outputs": [
        {
          "output_type": "execute_result",
          "data": {
            "application/vnd.google.colaboratory.intrinsic+json": {
              "type": "string"
            },
            "text/plain": [
              "'Hello Man Where Are You This'"
            ]
          },
          "metadata": {
            "tags": []
          },
          "execution_count": 21
        }
      ]
    },
    {
      "cell_type": "markdown",
      "metadata": {
        "id": "n9cB7xoHg0LC"
      },
      "source": [
        "A much easier way to write the same thing"
      ]
    },
    {
      "cell_type": "code",
      "metadata": {
        "id": "jZ2Cs1fygQIQ"
      },
      "source": [
        "import string\n",
        "def toJadeCase(word):\n",
        "  return string.capwords(word)"
      ],
      "execution_count": 22,
      "outputs": []
    },
    {
      "cell_type": "code",
      "metadata": {
        "colab": {
          "base_uri": "https://localhost:8080/",
          "height": 35
        },
        "id": "TWtYPWB1gv72",
        "outputId": "9b0602b9-526d-41e7-d403-40634c89e3dd"
      },
      "source": [
        "toJadeCase('Hello man where are you this')"
      ],
      "execution_count": 23,
      "outputs": [
        {
          "output_type": "execute_result",
          "data": {
            "application/vnd.google.colaboratory.intrinsic+json": {
              "type": "string"
            },
            "text/plain": [
              "'Hello Man Where Are You This'"
            ]
          },
          "metadata": {
            "tags": []
          },
          "execution_count": 23
        }
      ]
    },
    {
      "cell_type": "code",
      "metadata": {
        "id": "3KEQAHfLgyvv"
      },
      "source": [
        ""
      ],
      "execution_count": null,
      "outputs": []
    }
  ]
}